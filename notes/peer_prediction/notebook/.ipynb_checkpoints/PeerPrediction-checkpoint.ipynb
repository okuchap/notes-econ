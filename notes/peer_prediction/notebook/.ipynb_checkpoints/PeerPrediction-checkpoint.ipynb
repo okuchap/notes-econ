{
 "cells": [
  {
   "cell_type": "markdown",
   "metadata": {},
   "source": [
    "## Peer Prediction"
   ]
  },
  {
   "cell_type": "markdown",
   "metadata": {},
   "source": [
    "* Kong & Schoenebeck (2018, EC18), \"Eliciting Expertise without Verification\"\n",
    "* Multi-tasks with known hierarchical information structure\n",
    "* Peer Prediction = Information Elicitation without Verification"
   ]
  },
  {
   "cell_type": "code",
   "execution_count": 4,
   "metadata": {
    "ExecuteTime": {
     "end_time": "2018-09-01T09:03:39.609559Z",
     "start_time": "2018-09-01T09:03:38.969768Z"
    }
   },
   "outputs": [],
   "source": [
    "import numpy as np\n",
    "import scipy as sp\n",
    "import matplotlib.pyplot as plt\n",
    "%matplotlib inline"
   ]
  },
  {
   "cell_type": "markdown",
   "metadata": {},
   "source": [
    "### Hierarchical Information Structure"
   ]
  },
  {
   "cell_type": "markdown",
   "metadata": {},
   "source": [
    "* Implement the essay writing example"
   ]
  },
  {
   "cell_type": "code",
   "execution_count": 13,
   "metadata": {},
   "outputs": [],
   "source": [
    "# eg.1 essay writing\n",
    "n = 10\n",
    "Q = np.array(\n",
    "[\n",
    "   [[0.2,0.2], [0.05,0.05]],\n",
    "    [[0.05,0.05], [0.2,0.2]],\n",
    "]\n",
    ")"
   ]
  },
  {
   "cell_type": "code",
   "execution_count": 14,
   "metadata": {},
   "outputs": [
    {
     "data": {
      "text/plain": [
       "1.0"
      ]
     },
     "execution_count": 14,
     "metadata": {},
     "output_type": "execute_result"
    }
   ],
   "source": [
    "Q.sum()"
   ]
  },
  {
   "cell_type": "code",
   "execution_count": 7,
   "metadata": {
    "ExecuteTime": {
     "end_time": "2018-09-01T09:07:19.516630Z",
     "start_time": "2018-09-01T09:07:19.512448Z"
    },
    "code_folding": []
   },
   "outputs": [],
   "source": [
    "def gen_attribute():\n",
    "    temp = np.random.rand()\n",
    "    if temp <= 0.2:\n",
    "        return [0,0,0]\n",
    "    elif temp <= 0.4:\n",
    "        return [0,0,1]\n",
    "    elif temp <= 0.45:\n",
    "        return [0,1,0]\n",
    "    elif temp <= 0.5:\n",
    "        return [0,1,1]\n",
    "    elif temp <= 0.55:\n",
    "        return [1,0,0]\n",
    "    elif temp <= 0.6:\n",
    "        return [1,0,1]\n",
    "    elif temp <= 0.8:\n",
    "        return [1,1,0]\n",
    "    else:\n",
    "        return [1,1,1]"
   ]
  },
  {
   "cell_type": "code",
   "execution_count": 34,
   "metadata": {
    "ExecuteTime": {
     "end_time": "2018-09-01T09:20:08.778324Z",
     "start_time": "2018-09-01T09:20:08.774297Z"
    }
   },
   "outputs": [
    {
     "data": {
      "text/plain": [
       "[1, 1, 1]"
      ]
     },
     "execution_count": 34,
     "metadata": {},
     "output_type": "execute_result"
    }
   ],
   "source": [
    "a = gen_attribute()\n",
    "a"
   ]
  },
  {
   "cell_type": "code",
   "execution_count": 26,
   "metadata": {
    "ExecuteTime": {
     "end_time": "2018-09-01T09:19:37.903702Z",
     "start_time": "2018-09-01T09:19:37.898608Z"
    }
   },
   "outputs": [],
   "source": [
    "def method_l(a):\n",
    "    return a[2]\n",
    "\n",
    "def method_w(a):\n",
    "    temp = np.random.rand()\n",
    "    if temp <= 0.9:\n",
    "        return a[1]\n",
    "    else:\n",
    "        return 1 - a[1]\n",
    "\n",
    "def method_q(a):\n",
    "    temp = np.random.rand()\n",
    "    if temp <= 0.7:\n",
    "        return a[0]\n",
    "    else:\n",
    "        return 1 - a[0]\n",
    "\n",
    "def method_all(a):\n",
    "    return [method_q(a), method_l(a), method_l(a)]"
   ]
  },
  {
   "cell_type": "code",
   "execution_count": 37,
   "metadata": {
    "ExecuteTime": {
     "end_time": "2018-09-01T09:20:16.312159Z",
     "start_time": "2018-09-01T09:20:16.308119Z"
    }
   },
   "outputs": [
    {
     "name": "stdout",
     "output_type": "stream",
     "text": [
      "[0, 1, 1]\n",
      "[1, 1, 1]\n",
      "[1, 1, 1]\n",
      "[1, 1, 1]\n",
      "[1, 1, 1]\n",
      "[1, 1, 1]\n",
      "[0, 1, 1]\n",
      "[1, 1, 1]\n",
      "[0, 1, 1]\n",
      "[1, 1, 1]\n"
     ]
    }
   ],
   "source": [
    "for i in range(10):\n",
    "    print(method_all(a))"
   ]
  },
  {
   "cell_type": "code",
   "execution_count": 42,
   "metadata": {
    "ExecuteTime": {
     "end_time": "2018-09-01T09:37:54.364828Z",
     "start_time": "2018-09-01T09:37:54.361181Z"
    }
   },
   "outputs": [],
   "source": [
    "# cost function\n",
    "def cost(method, atype):\n",
    "    '''\n",
    "    method: l,w,q\n",
    "    atype: 0 -> low, 1 -> high\n",
    "    '''\n",
    "    h = {\"l\": [1, 2], \"w\": [2,4], \"q\": [5,10]}\n",
    "    return h[method][atype]"
   ]
  },
  {
   "cell_type": "code",
   "execution_count": 43,
   "metadata": {
    "ExecuteTime": {
     "end_time": "2018-09-01T09:37:54.990703Z",
     "start_time": "2018-09-01T09:37:54.985882Z"
    }
   },
   "outputs": [
    {
     "data": {
      "text/plain": [
       "4"
      ]
     },
     "execution_count": 43,
     "metadata": {},
     "output_type": "execute_result"
    }
   ],
   "source": [
    "# an agent with high type performs method w.\n",
    "cost(\"w\", 1)"
   ]
  },
  {
   "cell_type": "markdown",
   "metadata": {},
   "source": [
    "### Mechanism Design Framework"
   ]
  },
  {
   "cell_type": "markdown",
   "metadata": {},
   "source": [
    "First, implement the function that calculates $f$-mutual information.\n",
    "* $\\Sigma:=\\{\\sigma_1, \\dots, \\sigma_n\\}$ the set of possible signals;\n",
    "* $X, Y$: random variables;\n",
    "    * A random variable $X$ is represented by a list with $n$ elements, $[x_1, \\dots, x_n]$;\n",
    "    * $x_i := \\Pr(X = i)$;\n",
    "$$\n",
    "MI^f(X, Y) := D_f(U_{XY}, V_{XY})\n",
    "$$\n",
    "$$\n",
    "D_f(p, q) := \\sum_{\\sigma \\in \\Sigma} p(\\sigma)\n",
    "f \\left(\n",
    "\\frac{p(\\sigma)}{q(\\sigma)}\n",
    "\\right)\n",
    "$$\n",
    "$$\n",
    "U_{XY}(x, y) := \\Pr(X=x, Y=y), V_{XY}(X=x, Y=y) := \\Pr(X=x)\\Pr(Y=y)\n",
    "$$"
   ]
  },
  {
   "cell_type": "code",
   "execution_count": null,
   "metadata": {},
   "outputs": [],
   "source": [
    "def f_div(X, Y, f=np.log):\n",
    "    '''\n",
    "    X := [x_1, ..., x_n]\n",
    "    '''\n",
    "    sum = 0\n",
    "    for i in range(len(X)):\n",
    "        sum += X[i] * f(X[i]/Y[i])\n",
    "    return sum\n",
    "\n",
    "def f_MI(X, Y, f=np.log):\n",
    "    "
   ]
  },
  {
   "cell_type": "code",
   "execution_count": null,
   "metadata": {},
   "outputs": [],
   "source": []
  }
 ],
 "metadata": {
  "kernelspec": {
   "display_name": "Python 3",
   "language": "python",
   "name": "python3"
  },
  "language_info": {
   "codemirror_mode": {
    "name": "ipython",
    "version": 3
   },
   "file_extension": ".py",
   "mimetype": "text/x-python",
   "name": "python",
   "nbconvert_exporter": "python",
   "pygments_lexer": "ipython3",
   "version": "3.6.6"
  },
  "latex_envs": {
   "LaTeX_envs_menu_present": true,
   "autoclose": false,
   "autocomplete": true,
   "bibliofile": "biblio.bib",
   "cite_by": "apalike",
   "current_citInitial": 1,
   "eqLabelWithNumbers": true,
   "eqNumInitial": 1,
   "hotkeys": {
    "equation": "Ctrl-E",
    "itemize": "Ctrl-I"
   },
   "labels_anchors": false,
   "latex_user_defs": false,
   "report_style_numbering": false,
   "user_envs_cfg": false
  },
  "toc": {
   "base_numbering": 1,
   "nav_menu": {},
   "number_sections": true,
   "sideBar": true,
   "skip_h1_title": false,
   "title_cell": "Table of Contents",
   "title_sidebar": "Contents",
   "toc_cell": false,
   "toc_position": {},
   "toc_section_display": true,
   "toc_window_display": false
  }
 },
 "nbformat": 4,
 "nbformat_minor": 2
}
