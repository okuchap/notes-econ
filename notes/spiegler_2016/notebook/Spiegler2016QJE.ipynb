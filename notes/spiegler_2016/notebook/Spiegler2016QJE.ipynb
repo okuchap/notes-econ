{
 "cells": [
  {
   "cell_type": "markdown",
   "metadata": {},
   "source": [
    "# $p_R$\n",
    "* Is $p_R$ always be a probability distribution?"
   ]
  },
  {
   "cell_type": "code",
   "execution_count": 1,
   "metadata": {
    "ExecuteTime": {
     "end_time": "2018-07-04T06:13:30.212513Z",
     "start_time": "2018-07-04T06:13:30.004360Z"
    }
   },
   "outputs": [],
   "source": [
    "import numpy as np"
   ]
  },
  {
   "cell_type": "code",
   "execution_count": 35,
   "metadata": {
    "ExecuteTime": {
     "end_time": "2018-07-04T07:25:17.832813Z",
     "start_time": "2018-07-04T07:25:17.818574Z"
    }
   },
   "outputs": [],
   "source": [
    "# Original distribution\n",
    "def p(a,b,c):\n",
    "    if a==1 and b==1 and c==1:\n",
    "        return 0.1\n",
    "    elif a==1 and b==1 and c==0:\n",
    "        return 0.15\n",
    "    elif a==1 and b==0 and c==1:\n",
    "        return 0.15\n",
    "    elif a==1 and b==0 and c==0:\n",
    "        return 0.05\n",
    "    elif a==0 and b==1 and c==1:\n",
    "        return 0.05\n",
    "    elif a==0 and b==1 and c==0:\n",
    "        return 0.2\n",
    "    elif a==0 and b==0 and c==1:\n",
    "        return 0.1\n",
    "    elif a==0 and b==0 and c==0:\n",
    "        return 0.2"
   ]
  },
  {
   "cell_type": "code",
   "execution_count": 8,
   "metadata": {
    "ExecuteTime": {
     "end_time": "2018-07-04T06:18:02.649889Z",
     "start_time": "2018-07-04T06:18:02.645377Z"
    }
   },
   "outputs": [
    {
     "data": {
      "text/plain": [
       "0.1"
      ]
     },
     "execution_count": 8,
     "metadata": {},
     "output_type": "execute_result"
    }
   ],
   "source": [
    "p(1,1,1)"
   ]
  },
  {
   "cell_type": "code",
   "execution_count": 14,
   "metadata": {
    "ExecuteTime": {
     "end_time": "2018-07-04T06:21:45.267433Z",
     "start_time": "2018-07-04T06:21:45.263097Z"
    }
   },
   "outputs": [],
   "source": [
    "def p_a(a):\n",
    "    sum = 0\n",
    "    for b in range(2):\n",
    "        for c in range(2):\n",
    "            sum += p(a,b,c)\n",
    "    return round(sum, 6)"
   ]
  },
  {
   "cell_type": "code",
   "execution_count": 15,
   "metadata": {
    "ExecuteTime": {
     "end_time": "2018-07-04T06:21:45.987575Z",
     "start_time": "2018-07-04T06:21:45.983417Z"
    }
   },
   "outputs": [
    {
     "data": {
      "text/plain": [
       "0.45"
      ]
     },
     "execution_count": 15,
     "metadata": {},
     "output_type": "execute_result"
    }
   ],
   "source": [
    "p_a(1)"
   ]
  },
  {
   "cell_type": "code",
   "execution_count": 30,
   "metadata": {
    "ExecuteTime": {
     "end_time": "2018-07-04T06:34:37.258944Z",
     "start_time": "2018-07-04T06:34:37.254389Z"
    }
   },
   "outputs": [],
   "source": [
    "def p_b(b):\n",
    "    sum = 0\n",
    "    for a in range(2):\n",
    "        for c in range(2):\n",
    "            sum += p(a,b,c)\n",
    "    return round(sum, 6)"
   ]
  },
  {
   "cell_type": "code",
   "execution_count": 29,
   "metadata": {
    "ExecuteTime": {
     "end_time": "2018-07-04T06:34:33.852748Z",
     "start_time": "2018-07-04T06:34:33.847948Z"
    }
   },
   "outputs": [],
   "source": [
    "def p_c(c):\n",
    "    sum = 0\n",
    "    for a in range(2):\n",
    "        for b in range(2):\n",
    "            sum += p(a,b,c)\n",
    "    return round(sum, 6)"
   ]
  },
  {
   "cell_type": "code",
   "execution_count": 18,
   "metadata": {
    "ExecuteTime": {
     "end_time": "2018-07-04T06:27:18.791647Z",
     "start_time": "2018-07-04T06:27:18.787371Z"
    }
   },
   "outputs": [],
   "source": [
    "def p_ba(b, a):\n",
    "    sum = 0\n",
    "    for c in range(2):\n",
    "        sum += p(a,b,c)\n",
    "    return round(sum, 6)"
   ]
  },
  {
   "cell_type": "code",
   "execution_count": 20,
   "metadata": {
    "ExecuteTime": {
     "end_time": "2018-07-04T06:29:33.038067Z",
     "start_time": "2018-07-04T06:29:33.033647Z"
    }
   },
   "outputs": [],
   "source": [
    "def p_cb(c, b):\n",
    "    sum = 0\n",
    "    for a in range(2):\n",
    "        sum += p(a,b,c)\n",
    "    return round(sum, 6)"
   ]
  },
  {
   "cell_type": "code",
   "execution_count": 31,
   "metadata": {
    "ExecuteTime": {
     "end_time": "2018-07-04T06:34:40.522343Z",
     "start_time": "2018-07-04T06:34:40.516856Z"
    }
   },
   "outputs": [],
   "source": [
    "def p_R(a,b,c):\n",
    "    return p_a(a) * (p_ba(b, a)/p_a(a)) * (p_cb(c, b)/p_c(c))"
   ]
  },
  {
   "cell_type": "code",
   "execution_count": 32,
   "metadata": {
    "ExecuteTime": {
     "end_time": "2018-07-04T06:34:41.193549Z",
     "start_time": "2018-07-04T06:34:41.188538Z"
    }
   },
   "outputs": [
    {
     "data": {
      "text/plain": [
       "0.1285714285714286"
      ]
     },
     "execution_count": 32,
     "metadata": {},
     "output_type": "execute_result"
    }
   ],
   "source": [
    "p_R(1,1,1)"
   ]
  },
  {
   "cell_type": "code",
   "execution_count": 34,
   "metadata": {
    "ExecuteTime": {
     "end_time": "2018-07-04T06:40:16.699253Z",
     "start_time": "2018-07-04T06:40:16.694396Z"
    },
    "scrolled": true
   },
   "outputs": [
    {
     "name": "stdout",
     "output_type": "stream",
     "text": [
      "1.0043956043956046\n"
     ]
    }
   ],
   "source": [
    "sum = 0\n",
    "for a in range(2):\n",
    "    for b in range(2):\n",
    "        for c in range(2):\n",
    "            sum += p_R(a,b,c)\n",
    "print(sum)"
   ]
  },
  {
   "cell_type": "code",
   "execution_count": 36,
   "metadata": {
    "ExecuteTime": {
     "end_time": "2018-07-04T07:25:24.878125Z",
     "start_time": "2018-07-04T07:25:24.873192Z"
    },
    "scrolled": true
   },
   "outputs": [
    {
     "name": "stdout",
     "output_type": "stream",
     "text": [
      "1.0\n"
     ]
    }
   ],
   "source": [
    "sum = 0\n",
    "for a in range(2):\n",
    "    for b in range(2):\n",
    "        for c in range(2):\n",
    "            sum += p_R(a,b,c)\n",
    "print(sum)"
   ]
  },
  {
   "cell_type": "code",
   "execution_count": 38,
   "metadata": {
    "ExecuteTime": {
     "end_time": "2018-07-04T08:09:28.351345Z",
     "start_time": "2018-07-04T08:09:28.346359Z"
    }
   },
   "outputs": [
    {
     "name": "stdout",
     "output_type": "stream",
     "text": [
      "1.0\n"
     ]
    }
   ],
   "source": [
    "sum = 0\n",
    "for a in range(2):\n",
    "    for b in range(2):\n",
    "        for c in range(2):\n",
    "            sum += p_a(a)*p_b(b)*p_c(c)\n",
    "print(sum)"
   ]
  },
  {
   "cell_type": "code",
   "execution_count": 40,
   "metadata": {
    "ExecuteTime": {
     "end_time": "2018-07-04T08:11:50.227360Z",
     "start_time": "2018-07-04T08:11:50.220814Z"
    }
   },
   "outputs": [
    {
     "name": "stdout",
     "output_type": "stream",
     "text": [
      "1.0\n"
     ]
    }
   ],
   "source": [
    "sum = 0\n",
    "for a in range(2):\n",
    "    for b in range(2):\n",
    "        for c in range(2):\n",
    "            sum += p_a(a)*(p_ba(b,a)/p_a(a))*p_c(c)\n",
    "print(sum)"
   ]
  },
  {
   "cell_type": "code",
   "execution_count": 41,
   "metadata": {
    "ExecuteTime": {
     "end_time": "2018-07-04T08:30:59.410962Z",
     "start_time": "2018-07-04T08:30:59.406736Z"
    }
   },
   "outputs": [
    {
     "data": {
      "text/plain": [
       "0.1"
      ]
     },
     "execution_count": 41,
     "metadata": {},
     "output_type": "execute_result"
    }
   ],
   "source": [
    "p(1,1,1)"
   ]
  },
  {
   "cell_type": "code",
   "execution_count": 42,
   "metadata": {
    "ExecuteTime": {
     "end_time": "2018-07-04T08:31:03.563311Z",
     "start_time": "2018-07-04T08:31:03.557101Z"
    }
   },
   "outputs": [
    {
     "data": {
      "text/plain": [
       "0.09374999999999999"
      ]
     },
     "execution_count": 42,
     "metadata": {},
     "output_type": "execute_result"
    }
   ],
   "source": [
    "p_R(1,1,1)"
   ]
  },
  {
   "cell_type": "code",
   "execution_count": 43,
   "metadata": {
    "ExecuteTime": {
     "end_time": "2018-07-04T08:31:25.327569Z",
     "start_time": "2018-07-04T08:31:25.322348Z"
    }
   },
   "outputs": [
    {
     "data": {
      "text/plain": [
       "0.09000000000000001"
      ]
     },
     "execution_count": 43,
     "metadata": {},
     "output_type": "execute_result"
    }
   ],
   "source": [
    "p_a(a)*p_b(b)*p_c(c)"
   ]
  },
  {
   "cell_type": "code",
   "execution_count": null,
   "metadata": {},
   "outputs": [],
   "source": []
  }
 ],
 "metadata": {
  "kernelspec": {
   "display_name": "Python 3",
   "language": "python",
   "name": "python3"
  },
  "language_info": {
   "codemirror_mode": {
    "name": "ipython",
    "version": 3
   },
   "file_extension": ".py",
   "mimetype": "text/x-python",
   "name": "python",
   "nbconvert_exporter": "python",
   "pygments_lexer": "ipython3",
   "version": "3.6.4"
  },
  "latex_envs": {
   "LaTeX_envs_menu_present": true,
   "autocomplete": true,
   "bibliofile": "biblio.bib",
   "cite_by": "apalike",
   "current_citInitial": 1,
   "eqLabelWithNumbers": true,
   "eqNumInitial": 1,
   "hotkeys": {
    "equation": "Ctrl-E",
    "itemize": "Ctrl-I"
   },
   "labels_anchors": false,
   "latex_user_defs": false,
   "report_style_numbering": false,
   "user_envs_cfg": false
  },
  "toc": {
   "nav_menu": {},
   "number_sections": true,
   "sideBar": true,
   "skip_h1_title": false,
   "toc_cell": false,
   "toc_position": {},
   "toc_section_display": "block",
   "toc_window_display": false
  }
 },
 "nbformat": 4,
 "nbformat_minor": 2
}
